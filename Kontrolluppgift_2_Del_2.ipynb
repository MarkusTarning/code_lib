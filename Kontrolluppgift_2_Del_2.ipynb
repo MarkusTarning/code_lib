{
 "cells": [
  {
   "cell_type": "markdown",
   "id": "1eb9b2c3-72f5-4e29-990a-82694bbb5058",
   "metadata": {},
   "source": [
    "# Kunskapskontroll 2 Del 2, \n",
    "### PyEye (Realtids objektidetifiering)   av: Markus Tärning 2005"
   ]
  },
  {
   "cell_type": "markdown",
   "id": "684e7dce-eb9a-4132-a884-c896806f42b9",
   "metadata": {},
   "source": [
    "### Bakgrund till mitt projektarbete:\n",
    "Min idé till detta projekt fick jag när jag läste om objektidetifiering i realtid. Jag tänkte då att det skulle kunna vara till stor hjälp för synskadade/blinda person att få höra vilka objekt de har framför sig. Min idé från början var att en person kan ha kameraglasögon eller action-kamera kopplad till en Raspberry Pie eller dylikt ihop med öronsnäckor. Men jag fick banta ned det hela lite och detta blev mitt resultat.\n",
    "\n",
    "\n"
   ]
  },
  {
   "cell_type": "markdown",
   "id": "df62e580-cd43-43c7-868d-6e534910cda2",
   "metadata": {},
   "source": [
    "## Förklaring av vad de vitala delarna i koden gör:"
   ]
  },
  {
   "cell_type": "markdown",
   "id": "c576c02a-f40c-4d62-91dd-96ece276c76f",
   "metadata": {},
   "source": [
    "Loop för att hålla programmet igång:\n",
    "- Så länge running är True körs loopen kontinuerligt."
   ]
  },
  {
   "cell_type": "code",
   "execution_count": null,
   "id": "cdfe4040-81b5-4600-8c81-5b8b6202e331",
   "metadata": {},
   "outputs": [],
   "source": [
    "while running:"
   ]
  },
  {
   "cell_type": "markdown",
   "id": "c8001b85-2350-4655-b402-29fcb7182e66",
   "metadata": {},
   "source": [
    "Läs en bildruta från en videoström:"
   ]
  },
  {
   "cell_type": "code",
   "execution_count": null,
   "id": "932f3693-63a3-4b1f-88ec-7d6cb925e3fc",
   "metadata": {},
   "outputs": [],
   "source": [
    "ret, frame = cap.read()"
   ]
  },
  {
   "cell_type": "markdown",
   "id": "38e03242-0c8a-48cb-8a09-831b17d5bcf5",
   "metadata": {},
   "source": [
    "Om en bildruta har lästs in korrekt:\n",
    "- Endast om ret är True fortsätter programmet att bearbeta bildrutan."
   ]
  },
  {
   "cell_type": "code",
   "execution_count": null,
   "id": "e363d849-ce4c-4979-b4c1-e2810b5113ea",
   "metadata": {},
   "outputs": [],
   "source": [
    "if ret:"
   ]
  },
  {
   "cell_type": "markdown",
   "id": "5549b5e6-8582-4541-a33f-836540defea0",
   "metadata": {},
   "source": [
    "Tidtagning för hur ofta prediktering ska göras (inferenstid):\n",
    "- Startar en timer som används senare för att mäta hur lång tid processen tar."
   ]
  },
  {
   "cell_type": "code",
   "execution_count": null,
   "id": "f37bcccf-fbf2-4d33-9a80-af8b1667ea7e",
   "metadata": {},
   "outputs": [],
   "source": [
    "start_time = time.time()"
   ]
  },
  {
   "cell_type": "markdown",
   "id": "18877aca-5599-4040-aedf-1ff846cc6f23",
   "metadata": {},
   "source": [
    "Kör objektigenkänningsmodellen på bilden:\n",
    "- model(frame) körs på den aktuella bildrutan.\n",
    "- results innehåller de identifierade objekten i bilden."
   ]
  },
  {
   "cell_type": "code",
   "execution_count": null,
   "id": "e343d35a-af54-4920-ab16-fffdde9075a3",
   "metadata": {},
   "outputs": [],
   "source": [
    "results = model(frame)"
   ]
  },
  {
   "cell_type": "markdown",
   "id": "8f2d979e-b05f-405b-91e3-3253ccd3d356",
   "metadata": {},
   "source": [
    "Skapar en tom mängd för att lagra upptäckta objekt:\n",
    "- detected_objects används för att hålla reda på nya objekt som identifieras i denna iteration."
   ]
  },
  {
   "cell_type": "code",
   "execution_count": null,
   "id": "eb4b2a67-d320-4fbc-a2d9-73d4479174d9",
   "metadata": {},
   "outputs": [],
   "source": [
    "detected_objects = set()"
   ]
  },
  {
   "cell_type": "markdown",
   "id": "68f335f2-6c8d-46ef-b4ed-f0ea68135417",
   "metadata": {},
   "source": [
    "Iterera över modellens resultat:\n",
    "- results kan innehålla flera objektupptäckter, itererar igenom dessa.\n",
    "\n",
    "- Iterera över de identifierade objekten i varje resultat:\n",
    "\n",
    "- Varje box innehåller information om varje upptäckt objekt."
   ]
  },
  {
   "cell_type": "code",
   "execution_count": null,
   "id": "49178a29-97bb-4f31-b6d4-2d21b534924a",
   "metadata": {},
   "outputs": [],
   "source": [
    "for box in result.boxes:"
   ]
  },
  {
   "cell_type": "markdown",
   "id": "9b76b98f-1d36-4ad3-a383-1950644580f7",
   "metadata": {},
   "source": [
    "Extrahera klassificeringssäkerheten (confidence score):\n",
    "- box.conf[0] innehåller förtroendegraden (sannolikheten) för att detta är ett korrekt identifierat objekt.\n",
    "- .item() konverterar från en tensor till en vanlig Python-float."
   ]
  },
  {
   "cell_type": "code",
   "execution_count": null,
   "id": "1601da39-0cbc-4394-8b76-34b161010f91",
   "metadata": {},
   "outputs": [],
   "source": [
    "conf = box.conf[0].item()"
   ]
  },
  {
   "cell_type": "markdown",
   "id": "4e07be15-5949-475e-9c2e-138691169790",
   "metadata": {},
   "source": [
    "Om säkerheten överstiger en tröskel:\n",
    "- Jämför förtroendegraden med en förbestämd confidence_threshold.\n",
    "- Endast objekt med en säkerhet över tröskeln behandlas vidare."
   ]
  },
  {
   "cell_type": "code",
   "execution_count": null,
   "id": "e7d876e3-5f2e-4d19-9d6a-ecc511cabc7d",
   "metadata": {},
   "outputs": [],
   "source": [
    "if conf >= confidence_threshold:"
   ]
  },
  {
   "cell_type": "markdown",
   "id": "a72c36df-38b1-4141-8f35-b11c11d46583",
   "metadata": {},
   "source": [
    "Extrahera koordinater och klassetikett\n",
    "- box.xyxy[0] innehåller koordinater för objektets bounding box (vänster-övre och höger-nedre hörn).\n",
    "- result.names[int(box.cls[0])] hämtar det textnamn som motsvarar klassetiketten."
   ]
  },
  {
   "cell_type": "code",
   "execution_count": null,
   "id": "31d82aaf-1dc9-4d3f-adab-4735291c5b13",
   "metadata": {},
   "outputs": [],
   "source": [
    "x1, y1, x2, y2 = map(int, box.xyxy[0])\n",
    "label = result.names[int(box.cls[0])]"
   ]
  },
  {
   "cell_type": "markdown",
   "id": "54e6934c-09c1-4ce2-b11f-fad564f98d84",
   "metadata": {},
   "source": [
    "Kolla om objektet ska räknas som nyupptäckt:\n",
    "- Om no_repeat är False läggs alltid objektet till.\n",
    "- Om no_repeat är True läggs objektet endast till om det inte redan finns i identified_objects."
   ]
  },
  {
   "cell_type": "code",
   "execution_count": null,
   "id": "a900e166-6aa7-481e-a098-3f77d09d62ec",
   "metadata": {},
   "outputs": [],
   "source": [
    "if not no_repeat or label not in identified_objects:\n",
    "    detected_objects.add(label)"
   ]
  },
  {
   "cell_type": "markdown",
   "id": "e6924d68-a6a2-4a33-8adf-67c2935a1586",
   "metadata": {},
   "source": [
    "Rita en rektangel runt detekterade objektet:\n",
    "- En grön (0, 255, 0) rektangel ritas runt detekterade objektet."
   ]
  },
  {
   "cell_type": "code",
   "execution_count": null,
   "id": "96a47069-da5f-4c26-9856-cea82b899ac2",
   "metadata": {},
   "outputs": [],
   "source": [
    "cv2.rectangle(frame, (x1, y1), (x2, y2), (0, 255, 0), 2)"
   ]
  },
  {
   "cell_type": "markdown",
   "id": "9e8e33b7-3ee4-4cac-b1f3-a4156f1b58f1",
   "metadata": {},
   "source": [
    "Lägger till text med objektets namn och klassifiseringsvärde:\n",
    "- Texten innehåller objektets namn och klassifiseringsvärde (t.ex. \"Katt 0.87\" = modellen tycker att det till 87% chans är en katt).\n",
    "- Skriften är i font FONT_HERSHEY_SIMPLEX, storlek 0.5, färg grön (0, 255, 0) och tjocklek 2."
   ]
  },
  {
   "cell_type": "code",
   "execution_count": null,
   "id": "e71f66db-799b-4b04-b9aa-62f198576f75",
   "metadata": {},
   "outputs": [],
   "source": [
    "cv2.putText(frame, f\"{label} {conf:.2f}\", (x1, y1 - 10), \n",
    "            cv2.FONT_HERSHEY_SIMPLEX, 0.5, (0, 255, 0), 2)"
   ]
  },
  {
   "cell_type": "markdown",
   "id": "90231778-4824-46ff-b11f-87fd702ecf1c",
   "metadata": {},
   "source": [
    "Lägg till identifierade objekt i den globala listan:\n",
    "- Uppdaterar identified_objects med de nyupptäckta objekten."
   ]
  },
  {
   "cell_type": "code",
   "execution_count": null,
   "id": "ce67c3e4-44c4-4ef7-95fd-a7f3786dc043",
   "metadata": {},
   "outputs": [],
   "source": [
    "identified_objects.update(detected_objects)"
   ]
  },
  {
   "cell_type": "markdown",
   "id": "0597dd1d-ca60-4bea-af7e-b6663ecba20a",
   "metadata": {},
   "source": [
    "Om talsyntes är aktiverad och nya objekt har upptäckts:\n",
    "- Kollar om speak_enabled är True och om några nya objekt har identifierats."
   ]
  },
  {
   "cell_type": "code",
   "execution_count": null,
   "id": "534d6183-0168-4ab2-bbcf-5e562e3b3a80",
   "metadata": {},
   "outputs": [],
   "source": [
    "if speak_enabled and detected_objects:"
   ]
  },
  {
   "cell_type": "markdown",
   "id": "6311a2bd-6b20-4bc6-893e-18c3214c05c6",
   "metadata": {},
   "source": [
    "Om de nyupptäckta objekten skiljer sig från senaste gången:\n",
    "- spoken_text = \", \".join(detected_objects)\n",
    "if spoken_text != last_spoken:\n",
    "- Om objektlistan har ändrats sedan förra iterationen.\n"
   ]
  },
  {
   "cell_type": "code",
   "execution_count": null,
   "id": "36fe42f2-f526-4d11-9d47-9e660345cf81",
   "metadata": {},
   "outputs": [],
   "source": [
    "spoken_text = \", \".join(detected_objects)\n",
    "if spoken_text != last_spoken:"
   ]
  },
  {
   "cell_type": "markdown",
   "id": "a958b3f5-f7ad-442b-ab21-e040b029f8ec",
   "metadata": {},
   "source": [
    "Läs upp de identifierade objekten med talsyntes:\n",
    "- engine.say(spoken_text) skickar texten till talsyntesen.\n",
    "- engine.runAndWait() gör att programmet väntar tills talet är färdigt innan det fortsätter.\n",
    "- last_spoken uppdateras för att undvika upprepningar."
   ]
  },
  {
   "cell_type": "code",
   "execution_count": null,
   "id": "57ead397-ddc4-4dec-be00-2002d45669b0",
   "metadata": {},
   "outputs": [],
   "source": [
    "engine.say(spoken_text)\n",
    "engine.runAndWait()\n",
    "last_spoken = spoken_text"
   ]
  },
  {
   "cell_type": "markdown",
   "id": "02e1767c-b4c6-45c2-9d44-7c025fc4d746",
   "metadata": {},
   "source": [
    "Konvertera bilden från BGR till RGB för korrekt färgåtergivning:\n",
    "- OpenCV använder BGR-färger, men PIL/Tkinter använder sig av RGB."
   ]
  },
  {
   "cell_type": "code",
   "execution_count": null,
   "id": "74774007-6e68-471c-9c7a-967c87315b2c",
   "metadata": {},
   "outputs": [],
   "source": [
    "frame = cv2.cvtColor(frame, cv2.COLOR_BGR2RGB)"
   ]
  },
  {
   "cell_type": "markdown",
   "id": "ba5d88af-0d70-4169-ba42-4e446f71ace6",
   "metadata": {},
   "source": [
    "Konvertera bilden till PIL-format:\n",
    "- Image.fromarray(frame) konverterar den OpenCV-bearbetade bilden till en PIL-bild."
   ]
  },
  {
   "cell_type": "code",
   "execution_count": null,
   "id": "fabdda82-ea37-4f6c-b7b0-4bca68305080",
   "metadata": {},
   "outputs": [],
   "source": [
    "img = Image.fromarray(frame)"
   ]
  },
  {
   "cell_type": "markdown",
   "id": "c5211a75-5114-4081-8c35-dd44541276bb",
   "metadata": {},
   "source": [
    "Skapa en Tkinter-kompatibel bild:\n",
    "- ImageTk.PhotoImage(image=img) skapar en bild som kan visas i ett Tkinter-grafiskt gränssnitt."
   ]
  },
  {
   "cell_type": "code",
   "execution_count": null,
   "id": "3cb6a748-2368-4016-a437-8d972f8dff25",
   "metadata": {},
   "outputs": [],
   "source": [
    "imgtk = ImageTk.PhotoImage(image=img)"
   ]
  },
  {
   "cell_type": "markdown",
   "id": "bf1c2353-752d-4298-90e2-359a09a6b6bf",
   "metadata": {},
   "source": [
    "Uppdatera Tkinter-canvas med den nya bilden:\n",
    "- canvas.imgtk = imgtk ser till att bilden inte rensas bort av Python:s garbage collector.\n",
    "- canvas.configure(image=imgtk) uppdaterar gränssnittet med den nya bilden."
   ]
  },
  {
   "cell_type": "code",
   "execution_count": null,
   "id": "41494445-b143-40a4-9128-d80c14a809a7",
   "metadata": {},
   "outputs": [],
   "source": [
    "canvas.imgtk = imgtk\n",
    "canvas.configure(image=imgtk)"
   ]
  },
  {
   "cell_type": "markdown",
   "id": "b18ec7d7-ca52-4012-86c1-4cb7717095e5",
   "metadata": {},
   "source": [
    "### Sammanfattning:\n",
    "- Koden fångar en videoström från datorns kamera, skickar sedan varje bildruta till en objektigenkänningsmodell, markerar identifierade objekt visuellt, läser upp dem med talsyntes om inställt, och visar den bearbetade bilden i ett Tkinter-fönster.\n",
    "- Tidsintervall för hur ofta modellen ska prediktera och sannolikhetströskel är justerbara.\n",
    "- Listan med identifierade objekt kan skrivas ut.\n",
    "\n",
    "### Koden i sin helhet ligger på min githubsida: https://github.com/MarkusTarning/code_lib//PyEye.py\n",
    "- Jag har gjort en demonstration i Mp4-format som jag kan visa eller skicka om så önskas."
   ]
  },
  {
   "cell_type": "markdown",
   "id": "dd040b9b-1c0d-4de2-8232-57a818ba4693",
   "metadata": {},
   "source": [
    "### När du lämnar in kunskapskontrollen ska du även besvara följande reflektionsfrågor:  \n",
    "- 1. Hur har du upplevt arbetet med projektet?  \n",
    "- 2. Har något varit utmanande, hur har du hanterat det? Vilka lärdomar har du tagit?  \n",
    "- 3. Vilket betyg anser du att du ska ha?  \n",
    "På denna kunskapskontroll kan man få betygen IG/G/VG."
   ]
  },
  {
   "cell_type": "markdown",
   "id": "399bf4c5-b355-42b1-a7f5-32b2531bb7ff",
   "metadata": {},
   "source": [
    "1.) Arbetet har varit mycket lärorikt, givande och roligt. Jag kommer förmodligen bygga vidare på detta projekt samt fortsätta arbetet med cancerbilderna.\n",
    "\n",
    "2.) Jag började mitt projekt med ett väldigt stort dataset bestående av Dicom-bilder (bröstcancer). Jag kände rätt så snart att det blev en alldeles för stor uppgift att hinna med inom utsatt tid. Så mina lärdomar av detta är att försöka lägga sig på en nivå som är hanterbar. \n",
    "##### Andra utmaningar:\n",
    "- Då modellen är väldigt resurskrävande så jag har kämpat mycket med att datorn har hägt sig. Samt kompatibilitetsproblem mellan olika Python-moduler och versioner.\n",
    "- I och med att programmet hela tiden itererar i sin videoström så har det varit en hel del jobb med att lägga funktioner och variabler i rätt loop.\n",
    "- Har aldrig tidigare varit i kontakt med på med CV2, TKinter eller Yolo med dess videoströmning, ganska utmanande!\n",
    "- Hade en del strul med: BGR och RGB innan jag kom på det.\n",
    "##### Lärdomar:\n",
    "- Det mesta i detta projekt var för mig nytt, så det har varit lärorikt.\n",
    "- Att göra proof of concept innan man satsar allt för mycket tid. Många grejer visar sig rätt snart om de är möjliga. Önskar att jag hade gjort det med cancerbilderna, vilket hade besparat mig mycket dyrbar tid.\n",
    "\n",
    "3.) Jag anser att betyget VG bör vara uppfyllt med detta projektarbete."
   ]
  }
 ],
 "metadata": {
  "kernelspec": {
   "display_name": "Python [conda env:base] *",
   "language": "python",
   "name": "conda-base-py"
  },
  "language_info": {
   "codemirror_mode": {
    "name": "ipython",
    "version": 3
   },
   "file_extension": ".py",
   "mimetype": "text/x-python",
   "name": "python",
   "nbconvert_exporter": "python",
   "pygments_lexer": "ipython3",
   "version": "3.12.7"
  }
 },
 "nbformat": 4,
 "nbformat_minor": 5
}
