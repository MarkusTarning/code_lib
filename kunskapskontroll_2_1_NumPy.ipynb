{
 "cells": [
  {
   "cell_type": "markdown",
   "id": "dacf74e6",
   "metadata": {},
   "source": [
    "# NumPy"
   ]
  },
  {
   "cell_type": "markdown",
   "id": "01b2bf34",
   "metadata": {},
   "source": [
    "Read the links: https://numpy.org/doc/stable/user/quickstart.html  and https://numpy.org/doc/stable/user/basics.broadcasting.html  before solving the exercises. "
   ]
  },
  {
   "cell_type": "code",
   "execution_count": 1,
   "id": "1f79e4a6",
   "metadata": {},
   "outputs": [],
   "source": [
    "import numpy as np"
   ]
  },
  {
   "cell_type": "markdown",
   "id": "7dae6889",
   "metadata": {},
   "source": [
    "### Print out the dimension (number of axes), shape, size and the datatype of the matrix A."
   ]
  },
  {
   "cell_type": "code",
   "execution_count": 3,
   "id": "7b3678cd",
   "metadata": {},
   "outputs": [],
   "source": [
    "A = np.arange(1, 16).reshape(3,5)"
   ]
  },
  {
   "cell_type": "code",
   "execution_count": 15,
   "id": "31d39235",
   "metadata": {},
   "outputs": [
    {
     "name": "stdout",
     "output_type": "stream",
     "text": [
      "Dimension (number of axes):  2\n",
      "Shape:  (3, 5)\n",
      "Size: A has:  15  elements\n",
      "Datatype:  int32\n"
     ]
    }
   ],
   "source": [
    "print('Dimension (number of axes): ', np.ndim(A))\n",
    "print('Shape: ', np.shape(A))\n",
    "print('Size: A has: ', np.size(A), ' elements')\n",
    "print('Datatype: ', A.dtype)"
   ]
  },
  {
   "cell_type": "markdown",
   "id": "e56d2a96",
   "metadata": {},
   "source": [
    "### Do the following computations on the matrices B and C: \n",
    "* Elementwise subtraction. \n",
    "* Elementwise multiplication. \n",
    "* Matrix multiplication (by default you should use the @ operator)."
   ]
  },
  {
   "cell_type": "code",
   "execution_count": 17,
   "id": "a7053fbb",
   "metadata": {},
   "outputs": [
    {
     "name": "stdout",
     "output_type": "stream",
     "text": [
      "[[1 2 3]\n",
      " [4 5 6]\n",
      " [7 8 9]]\n",
      "\n",
      "[[2. 2. 2.]\n",
      " [2. 2. 2.]\n",
      " [2. 2. 2.]]\n"
     ]
    }
   ],
   "source": [
    "B = np.arange(1, 10).reshape(3, 3)\n",
    "C = np.ones((3, 3))*2\n",
    "\n",
    "print(B)\n",
    "print()\n",
    "print(C)"
   ]
  },
  {
   "cell_type": "code",
   "execution_count": 21,
   "id": "3cd794ae",
   "metadata": {},
   "outputs": [
    {
     "name": "stdout",
     "output_type": "stream",
     "text": [
      "Elementwise subtraction\n",
      " [[-1.  0.  1.]\n",
      " [ 2.  3.  4.]\n",
      " [ 5.  6.  7.]]\n",
      "\n",
      "Elementwise multiplication\n",
      " [[ 2.  4.  6.]\n",
      " [ 8. 10. 12.]\n",
      " [14. 16. 18.]]\n",
      "\n",
      "Matrix multiplication\n",
      " [[12. 12. 12.]\n",
      " [30. 30. 30.]\n",
      " [48. 48. 48.]]\n"
     ]
    }
   ],
   "source": [
    "print('Elementwise subtraction\\n', B - C)\n",
    "print('\\nElementwise multiplication\\n', B * C)\n",
    "print('\\nMatrix multiplication\\n', B @ C)"
   ]
  },
  {
   "cell_type": "markdown",
   "id": "96030d53",
   "metadata": {},
   "source": [
    "### Do the following calculations on the matrix:\n",
    "* Exponentiate each number elementwise (use the np.exp function).\n",
    "\n",
    "* Calculate the minimum value in the whole matrix. \n",
    "* Calculcate the minimum value in each row. \n",
    "* Calculcate the minimum value in each column. \n",
    "\n",
    "\n",
    "* Find the index value for the minimum value in the whole matrix (hint: use np.argmin).\n",
    "* Find the index value for the minimum value in each row (hint: use np.argmin).\n",
    "\n",
    "\n",
    "* Calculate the sum for all elements.\n",
    "* Calculate the mean for each column. \n",
    "* Calculate the median for each column. "
   ]
  },
  {
   "cell_type": "code",
   "execution_count": 11,
   "id": "f8a9166b",
   "metadata": {},
   "outputs": [
    {
     "name": "stdout",
     "output_type": "stream",
     "text": [
      "[[1 2 3]\n",
      " [4 5 6]\n",
      " [7 8 9]]\n"
     ]
    }
   ],
   "source": [
    "B = np.arange(1, 10).reshape(3, 3)\n",
    "print(B)"
   ]
  },
  {
   "cell_type": "code",
   "execution_count": 17,
   "id": "f03f24f7",
   "metadata": {},
   "outputs": [
    {
     "name": "stdout",
     "output_type": "stream",
     "text": [
      "Exponentiate each number elementwise:\n",
      " [[2.71828183e+00 7.38905610e+00 2.00855369e+01]\n",
      " [5.45981500e+01 1.48413159e+02 4.03428793e+02]\n",
      " [1.09663316e+03 2.98095799e+03 8.10308393e+03]]\n",
      "\n",
      "Minimum value in the whole matrix:  1\n",
      "\n",
      "Minimum value in each row:\n",
      " [1 4 7]\n",
      "\n",
      "Minimum value in each column:\n",
      " [1 2 3]\n",
      "\n",
      "Index value for the minimum value in the whole matrix:  0\n",
      "\n",
      "Index value for the minimum value in each row:\n",
      " [0 0 0]\n",
      "\n",
      "Sum for all elements:  45\n",
      "\n",
      "Mean for each column:\n",
      " [4. 5. 6.]\n",
      "\n",
      "Median for each column:\n",
      " [4. 5. 6.]\n"
     ]
    }
   ],
   "source": [
    "print('Exponentiate each number elementwise:\\n', np.exp(B))\n",
    "\n",
    "print('\\nMinimum value in the whole matrix: ', np.min(B))\n",
    "\n",
    "print('\\nMinimum value in each row:\\n', np.min(B, axis=1))\n",
    "\n",
    "print('\\nMinimum value in each column:\\n', np.min(B, axis=0))\n",
    "\n",
    "print('\\nIndex value for the minimum value in the whole matrix: ', np.argmin(B))\n",
    "\n",
    "print('\\nIndex value for the minimum value in each row:\\n',  np.argmin(B, axis=1))\n",
    "\n",
    "print('\\nSum for all elements: ', np.sum(B))\n",
    "\n",
    "print('\\nMean for each column:\\n', np.mean(B, axis=0))\n",
    "\n",
    "print('\\nMedian for each column:\\n', np.median(B, axis=0))"
   ]
  },
  {
   "cell_type": "markdown",
   "id": "541eb7ba",
   "metadata": {},
   "source": [
    "### What does it mean when you provide fewer indices than axes when slicing? See example below."
   ]
  },
  {
   "cell_type": "code",
   "execution_count": 39,
   "id": "9c8abf56",
   "metadata": {},
   "outputs": [
    {
     "name": "stdout",
     "output_type": "stream",
     "text": [
      "[[ 1  2  3  4  5]\n",
      " [ 6  7  8  9 10]\n",
      " [11 12 13 14 15]]\n"
     ]
    }
   ],
   "source": [
    "print(A)"
   ]
  },
  {
   "cell_type": "code",
   "execution_count": 41,
   "id": "69415f7b",
   "metadata": {},
   "outputs": [
    {
     "data": {
      "text/plain": [
       "array([ 6,  7,  8,  9, 10])"
      ]
     },
     "execution_count": 41,
     "metadata": {},
     "output_type": "execute_result"
    }
   ],
   "source": [
    "A[1]"
   ]
  },
  {
   "cell_type": "markdown",
   "id": "6c53541b",
   "metadata": {},
   "source": [
    "**Answer:**"
   ]
  },
  {
   "cell_type": "markdown",
   "id": "3c0eaf50-dfb9-431e-ae14-8d227f87f9fb",
   "metadata": {},
   "source": [
    "When fewer indices are provided than the number of axes, the missing indices are considered complete slices:"
   ]
  },
  {
   "cell_type": "markdown",
   "id": "6652d0c9",
   "metadata": {},
   "source": [
    "### Iterating over multidimensional arrays is done with respect to the first axis, so in the example below we iterate trough the rows. If you would like to iterate through the array *elementwise*, how would you do that?"
   ]
  },
  {
   "cell_type": "code",
   "execution_count": null,
   "id": "9459864f",
   "metadata": {},
   "outputs": [],
   "source": [
    "A"
   ]
  },
  {
   "cell_type": "code",
   "execution_count": 44,
   "id": "a671bb5a",
   "metadata": {},
   "outputs": [
    {
     "name": "stdout",
     "output_type": "stream",
     "text": [
      "[1 2 3 4 5]\n",
      "[ 6  7  8  9 10]\n",
      "[11 12 13 14 15]\n"
     ]
    }
   ],
   "source": [
    "for i in A:\n",
    "    print(i)"
   ]
  },
  {
   "cell_type": "code",
   "execution_count": 48,
   "id": "f4e443a0",
   "metadata": {},
   "outputs": [
    {
     "name": "stdout",
     "output_type": "stream",
     "text": [
      "1\n",
      "2\n",
      "3\n",
      "4\n",
      "5\n",
      "6\n",
      "7\n",
      "8\n",
      "9\n",
      "10\n",
      "11\n",
      "12\n",
      "13\n",
      "14\n",
      "15\n"
     ]
    }
   ],
   "source": [
    "for i in A.flat:\n",
    "    print(i)"
   ]
  },
  {
   "cell_type": "markdown",
   "id": "608a2583",
   "metadata": {},
   "source": [
    "### Explain what the code below does. More specifically, b has three axes - what does this mean? "
   ]
  },
  {
   "cell_type": "code",
   "execution_count": 37,
   "id": "f8f9b26f",
   "metadata": {},
   "outputs": [
    {
     "name": "stdout",
     "output_type": "stream",
     "text": [
      "[ 0  1  2  3  4  5  6  7  8  9 10 11 12 13 14 15 16 17 18 19 20 21 22 23\n",
      " 24 25 26 27 28 29]\n",
      "\n",
      "[[[ 0  1  2  3  4]\n",
      "  [ 5  6  7  8  9]\n",
      "  [10 11 12 13 14]]\n",
      "\n",
      " [[15 16 17 18 19]\n",
      "  [20 21 22 23 24]\n",
      "  [25 26 27 28 29]]]\n"
     ]
    }
   ],
   "source": [
    "a = np.arange(30)\n",
    "b = a.reshape((2, 3, -1))\n",
    "print(a)\n",
    "print()\n",
    "\n",
    "print(b)"
   ]
  },
  {
   "cell_type": "markdown",
   "id": "b6cfe96c-2462-4fe3-9928-b8cb01587fda",
   "metadata": {},
   "source": [
    "creates a 1-dimensional array of integers from 0 to 29.\n",
    "Reshapes the array into a 3-dimensional array with: 2 blocks (first axis) 3 rows in each block (second axis)\n",
    "Axis 2: Divides each row into 5 columns."
   ]
  },
  {
   "cell_type": "code",
   "execution_count": 61,
   "id": "eed38bbb-dd20-4d23-837f-679aa3d3a067",
   "metadata": {},
   "outputs": [
    {
     "name": "stdout",
     "output_type": "stream",
     "text": [
      "Shape for axis=0, has  2  blocks.\n",
      "Shape for axis=1, has  3  rows in each block.\n",
      "Shape for axis=2, has  5  elements in each row.\n"
     ]
    }
   ],
   "source": [
    "print('Shape for axis=0, has ', b.shape[0], ' blocks.')\n",
    "print('Shape for axis=1, has ', b.shape[1], ' rows in each block.')\n",
    "print('Shape for axis=2, has ', b.shape[2], ' elements in each row.')"
   ]
  },
  {
   "cell_type": "markdown",
   "id": "421c9607-819a-401d-949a-97424436fe29",
   "metadata": {},
   "source": [
    "# For the exercises below, read the document *\"matematik_yh_antonio_vektorer_matriser_utdrag\"*\n",
    "# Solutions to the exercises and recorded videos can be found here: https://github.com/AntonioPrgomet/matematik_foer_yh\n",
    "\n",
    "# If you find the exercises below very hard, do not worry. Try your best, that will be enough. "
   ]
  },
  {
   "cell_type": "markdown",
   "id": "ab5933d5",
   "metadata": {},
   "source": [
    "### Broadcasting\n",
    "**Read the following link about broadcasting: https://numpy.org/doc/stable/user/basics.broadcasting.html#basics-broadcasting**"
   ]
  },
  {
   "cell_type": "markdown",
   "id": "039805ba",
   "metadata": {},
   "source": [
    "# Remark on Broadcasting when doing Linear Algebra calculations in Python. "
   ]
  },
  {
   "cell_type": "markdown",
   "id": "c4bcc147",
   "metadata": {},
   "source": [
    "### From the mathematical rules of matrix addition, the operation below (m1 + m2) does not make sense. The reason is that matrix addition requires two matrices of the same size. In Python however, it works due to broadcasting rules in NumPy. So you must be careful when doing Linear Algebra calculations in Python since they do not follow the \"mathematical rules\". This can however easily be handled by doing some simple programming, for example validating that two matrices have the same shape is easy if you for instance want to add two matrices. "
   ]
  },
  {
   "cell_type": "code",
   "execution_count": 79,
   "id": "1fd46778",
   "metadata": {},
   "outputs": [
    {
     "name": "stdout",
     "output_type": "stream",
     "text": [
      "[[2 3]\n",
      " [4 5]]\n",
      "m1 and m2 has not same shape!\n",
      "m1 shape:  (2, 2)\n",
      "m2 shape:  (2,)\n"
     ]
    }
   ],
   "source": [
    "m1 = np.array([[1, 2], [3, 4]])\n",
    "m2 = np.array([1, 1])\n",
    "print(m1 + m2)\n",
    "\n",
    "if m1.shape == m2.shape:\n",
    "    print('m1 and m2 has same shape! We can add. m1 + m2 = ', m1 + m2)\n",
    "elif not m1.shape == m2.shape:\n",
    "    print('m1 and m2 has not same shape!')\n",
    "print('m1 shape: ', m1.shape) # Shape (2, 2)\n",
    "print('m2 shape: ', m2.shape) # Shape (2, 1)"
   ]
  },
  {
   "cell_type": "markdown",
   "id": "047d6576",
   "metadata": {},
   "source": [
    "### The example below would also not be allowed if following the \"mathematical rules\" in Linear Algebra. But it works due to broadcasting in NumPy. "
   ]
  },
  {
   "cell_type": "code",
   "execution_count": 81,
   "id": "5e6ef2e4",
   "metadata": {},
   "outputs": [
    {
     "name": "stdout",
     "output_type": "stream",
     "text": [
      "[2 3 4]\n"
     ]
    }
   ],
   "source": [
    "v1 = np.array([1, 2, 3])\n",
    "print(v1 + 1) "
   ]
  },
  {
   "cell_type": "code",
   "execution_count": 83,
   "id": "e2cbae26",
   "metadata": {},
   "outputs": [
    {
     "name": "stdout",
     "output_type": "stream",
     "text": [
      "[[1 2]\n",
      " [3 4]]\n",
      "[2 2]\n"
     ]
    }
   ],
   "source": [
    "A = np.arange(1, 5).reshape(2,2)\n",
    "print(A)\n",
    "\n",
    "b = np.array([2, 2])\n",
    "print(b)"
   ]
  },
  {
   "cell_type": "markdown",
   "id": "722fd5cd",
   "metadata": {},
   "source": [
    "# Vector- and matrix algebra Exercises"
   ]
  },
  {
   "cell_type": "markdown",
   "id": "b63a3081-d976-4d9f-bfd0-a63917e79f7d",
   "metadata": {},
   "source": [
    "**Now you are going to create a function that can be reused every time you add or multiply matrices. The function is created so that we do the addition and multiplication according to the rules of vector- and matrix algebra.**\n",
    "\n",
    "**Create a function \"add_mult_matrices\" that takes two matrices as input arguments (validate that the input are of the type numpy.ndarray by using the isinstance function), a third argument that is either 'add' or 'multiply' that specifies if you want to add or multiply the matrices (validate that the third argument is either 'add' or 'multiply'). When doing matrix addition, validate that the matrices have the same size. When doing matrix multiplication, validate that the sizes conform (i.e. number of columns in the first matrix is equal to the number of rows in the second matrix).**"
   ]
  },
  {
   "cell_type": "code",
   "execution_count": 81,
   "id": "3506f977-ac0a-473f-85bc-eec9f35dc498",
   "metadata": {},
   "outputs": [
    {
     "name": "stdout",
     "output_type": "stream",
     "text": [
      "matrix_1 + matrix_2\n",
      " [[5 7 9]]\n",
      "\n",
      "matrix_1 @ matrix_2\n",
      " [[22 28]\n",
      " [49 64]]\n"
     ]
    }
   ],
   "source": [
    "def add_mult_matrices(m1, m2, operation):\n",
    "    if not isinstance(m1, np.ndarray) or not isinstance(m2, np.ndarray):\n",
    "        raise ValueError('Both matrices must be of type: numpy.ndarray!')\n",
    "    # Check if operation is add or multiply, or something else.\n",
    "    if operation not in ['add', 'multiply']:\n",
    "        raise ValueError(\"Operation must be 'add' or 'multiply'.\")\n",
    "    if operation == 'add':\n",
    "        if m1.shape != m2.shape:\n",
    "            raise ValueError(\"Matrices must have the same size for addition.\")\n",
    "        print('matrix_1 + matrix_2\\n', m1 + m2)\n",
    "    if operation == 'multiply':\n",
    "        if m1.shape[1] != m2.shape[0]:\n",
    "            raise ValueError('Number of columns in the first matrix must equal number of rows in the second matrix for multiplication.')\n",
    "        print('\\nmatrix_1 @ matrix_2\\n', m1 @ m2)\n",
    "\n",
    "# Test add\n",
    "M1 = np.array([[1,2,3]]) \n",
    "M2 = np.array([[4,5,6]])\n",
    "add_mult_matrices(M1, M2, 'add')\n",
    "\n",
    "# test multiply       \n",
    "M1 = np.array([[1, 2, 3], [4, 5, 6]])\n",
    "M2 = np.array([[1, 2],[3, 4],[5, 6]])\n",
    "test1 = add_mult_matrices(M1, M2,'multiply')"
   ]
  },
  {
   "cell_type": "markdown",
   "id": "8dad82d0-2359-4dff-8f5b-a57d3e34103c",
   "metadata": {},
   "source": [
    "### Solve all the exercises in chapter 10.1 in the book \"Matematik för yrkeshögskolan\". "
   ]
  },
  {
   "cell_type": "code",
   "execution_count": 111,
   "id": "b3fd9535-f69b-4e70-a1dd-0c10931c8507",
   "metadata": {},
   "outputs": [],
   "source": [
    "x = np.array([4, 3])"
   ]
  },
  {
   "cell_type": "code",
   "execution_count": 177,
   "id": "89df88af-3668-4d98-a0a4-e6d92eea0f89",
   "metadata": {},
   "outputs": [
    {
     "name": "stdout",
     "output_type": "stream",
     "text": [
      "a) x dimension är:  (1, 2)\n",
      "\n",
      "b) 5x =  [20 15]\n",
      "\n",
      "c) 3x =  [12  9]\n",
      "\n",
      "d) 5x + 3x = [32 24]\n",
      "\n",
      "e) 8x =  [32 24]\n",
      "\n",
      "f) 4x - x =  [12  9]\n",
      "\n",
      "g) xT =  (2, 1)\n",
      "\n",
      "h) Är x + xT definierat?\n",
      " (1, 2) (2, 1)\n",
      "Svar: Nej x är en (1x2)-vektor och x.T är en (2x1)-vektor, vilket reulterar till att x + xT inte är definierat.\n",
      "\n",
      "\n",
      "i)Beräkna ∥x∥. Svar: Normen av x =  5.0\n"
     ]
    }
   ],
   "source": [
    "X = np.array([[4, 3]]) # Hjälpfunktion med extra hakar för att bättre kunna illustrera vissa exempel.\n",
    "print('a) x dimension är: ', X.shape) # använde dubbla hakar för att tydliggöra\n",
    "print('\\nb) 5x = ', 5 * x)\n",
    "print('\\nc) 3x = ', 3 * x)\n",
    "print('\\nd) 5x + 3x =', 5 * x + 3 * x)\n",
    "print('\\ne) 8x = ', 8 * x)\n",
    "print('\\nf) 4x - x = ', 4 * x - x)\n",
    "print('\\ng) xT = ', X.T.shape) # Använde dubbla hakar på denna med för att tydliggöra\n",
    "print('\\nh) Är x + xT definierat?\\n', X.shape , X.T.shape) # Även denna med extra hakar.\n",
    "print('Svar: Nej x är en (1x2)-vektor och x.T är en (2x1)-vektor, vilket reulterar till att x + xT inte är definierat.\\n')\n",
    "print('\\ni)Beräkna ∥x∥. Svar: Normen av x = ', np.linalg.norm(x))"
   ]
  },
  {
   "cell_type": "markdown",
   "id": "4afc0df6-822a-4dd6-979a-cddba58d536d",
   "metadata": {},
   "source": [
    "Uppgifter 10.1.2"
   ]
  },
  {
   "cell_type": "code",
   "execution_count": 179,
   "id": "fa4bfdde-b46a-4305-bd33-26d6b21851e3",
   "metadata": {},
   "outputs": [],
   "source": [
    "v = np.array([3, 7, 0, 11]).reshape(-1, 1)"
   ]
  },
  {
   "cell_type": "code",
   "execution_count": 205,
   "id": "4e0646ed-d2f6-4cae-8f35-2f6c002c4d2f",
   "metadata": {},
   "outputs": [
    {
     "name": "stdout",
     "output_type": "stream",
     "text": [
      "a)\n",
      " (4, 1)\n",
      "\n",
      "b) 2v = \n",
      " [[ 6]\n",
      " [14]\n",
      " [ 0]\n",
      " [22]]\n",
      "\n",
      "c) 5v + 2v = \n",
      " [[21]\n",
      " [49]\n",
      " [ 0]\n",
      " [77]]\n",
      "\n",
      "d) 4v - 2v = \n",
      " [[ 6]\n",
      " [14]\n",
      " [ 0]\n",
      " [22]]\n",
      "\n",
      "e) vT =  [[ 3  7  0 11]]  dimension efter transponeringen =  (1, 4)\n",
      "\n",
      "f) ∥v∥ är ungefär  13.379088160259652\n"
     ]
    }
   ],
   "source": [
    "print('a)\\n', v.shape)\n",
    "print('\\nb) 2v = \\n', 2 * v)\n",
    "print('\\nc) 5v + 2v = \\n', 5*v + 2*v)\n",
    "print('\\nd) 4v - 2v = \\n', 4*v - 2*v)\n",
    "print('\\ne) vT = ', v.T, ' dimension efter transponeringen = ', v.T.shape)\n",
    "print('\\nf) ∥v∥ är ungefär ', np.linalg.norm(v))"
   ]
  },
  {
   "cell_type": "markdown",
   "id": "2b0fb657-c61d-498b-a006-7c8233d37802",
   "metadata": {},
   "source": [
    "Övningsuppgifter 10.1.3"
   ]
  },
  {
   "cell_type": "code",
   "execution_count": 217,
   "id": "8a3b7271-5ef2-4e78-9c81-c7a7235eedc8",
   "metadata": {},
   "outputs": [],
   "source": [
    "v1 = np.array([4, 3, 1, 5])\n",
    "v2 = np.array([2, 3, 1, 1])"
   ]
  },
  {
   "cell_type": "code",
   "execution_count": 221,
   "id": "e7e99888-1640-4ae9-8769-cfeb96e250e3",
   "metadata": {},
   "outputs": [
    {
     "name": "stdout",
     "output_type": "stream",
     "text": [
      "a) 7.14142842854285\n",
      "b 4.47213595499958\n"
     ]
    }
   ],
   "source": [
    "print('a)', np.linalg.norm(v1))\n",
    "print('b', np.linalg.norm(v1 - v2))"
   ]
  },
  {
   "cell_type": "markdown",
   "id": "75c98984-1f88-4df1-b850-d2466de444a5",
   "metadata": {},
   "source": [
    "### Solve all the exercises, except 10.2.4, in chapter 10.2 in the book \"Matematik för yrkeshögskolan\". "
   ]
  },
  {
   "cell_type": "code",
   "execution_count": 245,
   "id": "65371610-16e1-48b2-b7fb-65e49002608a",
   "metadata": {},
   "outputs": [
    {
     "data": {
      "text/plain": [
       "array([[1, 0],\n",
       "       [0, 1]])"
      ]
     },
     "execution_count": 245,
     "metadata": {},
     "output_type": "execute_result"
    }
   ],
   "source": [
    "A = np.array([[2, 1, -1], [1, -1, 1]])\n",
    "B = np.array([[4, -2, 1], [2, -4, -2]])\n",
    "C = np.array([[1, 2], [2, 1]])\n",
    "D = np.array([[3, 4], [4, 3]])\n",
    "E =  np.array([[1],[2]])\n",
    "I =  np.array([[1, 0], [0, 1]])"
   ]
  },
  {
   "cell_type": "code",
   "execution_count": 279,
   "id": "36099b3b-fd95-4202-afce-f5e958fd9d75",
   "metadata": {},
   "outputs": [
    {
     "name": "stdout",
     "output_type": "stream",
     "text": [
      "\n",
      "a) 2A\n",
      " [[ 4  2 -2]\n",
      " [ 2 -2  2]]\n",
      "\n",
      "b) B - 2A\n",
      " [[ 0 -4  3]\n",
      " [ 0 -2 -4]]\n",
      "\n",
      "c) 3C - 2E\n",
      " [[ 1  4]\n",
      " [ 2 -1]]\n",
      "\n",
      "d) 2D - 3C\n",
      " [[3 2]\n",
      " [2 3]]\n",
      "\n",
      "e) DT + 2D\n",
      " [[ 9 12]\n",
      " [12  9]]\n",
      "\n",
      "f) 2CT - 2DT\n",
      " [[-4 -4]\n",
      " [-4 -4]]\n",
      "\n",
      "g) Är ej definierat.\n",
      "\n",
      "h) Är ej definierat.\n",
      "\n",
      "i) CD\n",
      " [[11 10]\n",
      " [10 11]]\n",
      "\n",
      "j) CB\n",
      " [[  8 -10  -3]\n",
      " [ 10  -8   0]]\n",
      "\n",
      "k) CI\n",
      " [[1 2]\n",
      " [2 1]]\n",
      "\n",
      "l) ABT\n",
      " [[5 2]\n",
      " [7 4]]\n"
     ]
    }
   ],
   "source": [
    "print('\\na) 2A\\n', 2 * A)\n",
    "print('\\nb) B - 2A\\n', B - 2 * A )\n",
    "print('\\nc) 3C - 2E\\n', 3 * C - 2 * E)\n",
    "print('\\nd) 2D - 3C\\n', 2 * D - 3 * C)\n",
    "print('\\ne) DT + 2D\\n', D.T + 2 * D)\n",
    "print('\\nf) 2CT - 2DT\\n', 2 * C.T - 2 * D.T)\n",
    "#print('\\ng) AT -B\\n', A.T - B) \n",
    "print('\\ng) Är ej definierat.')\n",
    "#print('\\nh) AC\\n', A * C) Är ej definierad\n",
    "print('\\nh) Är ej definierat.')\n",
    "print('\\ni) CD\\n', np.dot(C, D))\n",
    "print('\\nj) CB\\n', np.dot(C, B))\n",
    "print('\\nk) CI\\n', np.dot(C, I))\n",
    "print('\\nl) ABT\\n', np.dot(A, B.T))"
   ]
  },
  {
   "cell_type": "markdown",
   "id": "6a4a524f",
   "metadata": {},
   "source": [
    "### Copies and Views\n",
    "Read the following link: https://numpy.org/doc/stable/user/basics.copies.html"
   ]
  },
  {
   "cell_type": "markdown",
   "id": "6cbbeaf7",
   "metadata": {},
   "source": [
    "**Basic indexing creates a view, How can you check if v1 and v2 is a view or copy? If you change the last element in v2 to 123, will the last element in v1 be changed? Why?**"
   ]
  },
  {
   "cell_type": "code",
   "execution_count": 281,
   "id": "5b9ef4df",
   "metadata": {},
   "outputs": [
    {
     "name": "stdout",
     "output_type": "stream",
     "text": [
      "[0 1 2 3]\n",
      "[2 3]\n"
     ]
    }
   ],
   "source": [
    "v1 = np.arange(4)\n",
    "v2 = v1[-2:]\n",
    "print(v1)\n",
    "print(v2)"
   ]
  },
  {
   "cell_type": "code",
   "execution_count": 283,
   "id": "d2440489",
   "metadata": {},
   "outputs": [
    {
     "name": "stdout",
     "output_type": "stream",
     "text": [
      "None\n",
      "[0 1 2 3]\n"
     ]
    }
   ],
   "source": [
    "# The base attribute of a view returns the original array while it returns None for a copy.\n",
    "print(v1.base)\n",
    "print(v2.base)"
   ]
  },
  {
   "cell_type": "code",
   "execution_count": 285,
   "id": "c8752807",
   "metadata": {},
   "outputs": [
    {
     "name": "stdout",
     "output_type": "stream",
     "text": [
      "[  0   1   2 123]\n",
      "[  2 123]\n"
     ]
    }
   ],
   "source": [
    "# The last element in v1 will be changed aswell since v2 is a view, meaning they share the same data buffer.\n",
    "v2[-1] = 123\n",
    "print(v1)\n",
    "print(v2)"
   ]
  },
  {
   "cell_type": "code",
   "execution_count": 303,
   "id": "3dd68221",
   "metadata": {},
   "outputs": [
    {
     "name": "stdout",
     "output_type": "stream",
     "text": [
      "view\n",
      "copy\n",
      "same object\n"
     ]
    }
   ],
   "source": [
    "def is_view_or_copy(a, b):\n",
    "    if a is b:\n",
    "        return \"same object\"  \n",
    "    elif b.base is a:\n",
    "        return \"view\"  \n",
    "    else:\n",
    "        return \"copy\"  \n",
    "\n",
    "v1 = np.array([1, 2, 3])\n",
    "v2_view = v1[1:]\n",
    "v2_copy = v1.copy()\n",
    "\n",
    "print(is_view_or_copy(v1, v2_view))  # \"view\"\n",
    "print(is_view_or_copy(v1, v2_copy))  # \"copy\"\n",
    "print(is_view_or_copy(v1, v1))       # \"same object\"\n"
   ]
  }
 ],
 "metadata": {
  "kernelspec": {
   "display_name": "Python 3 (ipykernel)",
   "language": "python",
   "name": "python3"
  },
  "language_info": {
   "codemirror_mode": {
    "name": "ipython",
    "version": 3
   },
   "file_extension": ".py",
   "mimetype": "text/x-python",
   "name": "python",
   "nbconvert_exporter": "python",
   "pygments_lexer": "ipython3",
   "version": "3.12.7"
  }
 },
 "nbformat": 4,
 "nbformat_minor": 5
}
